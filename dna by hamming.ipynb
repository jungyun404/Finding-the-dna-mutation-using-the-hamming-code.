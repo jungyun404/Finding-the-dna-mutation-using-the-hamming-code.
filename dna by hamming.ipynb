{
 "cells": [
  {
   "cell_type": "code",
   "execution_count": null,
   "metadata": {},
   "outputs": [
    {
     "ename": "",
     "evalue": "",
     "output_type": "error",
     "traceback": [
      "\u001b[1;31mRunning cells with 'Python 3.9.4 64-bit ('asd': conda)' requires ipykernel package.\n",
      "Run the following command to install 'ipykernel' into the Python environment. \n",
      "Command: 'conda install -n asd ipykernel --update-deps --force-reinstall'"
     ]
    }
   ],
   "source": [
    "#유전자의 전사과정에서 일어나는 오류 검출\n"
   ]
  },
  {
   "cell_type": "code",
   "execution_count": null,
   "metadata": {},
   "outputs": [],
   "source": [
    "dna = input('주형가닥의 염기서열을 입력해주세요')\n"
   ]
  }
 ],
 "metadata": {
  "interpreter": {
   "hash": "8a101b50237c6a8e8e40588719bcbebb13dfda0cb0c6eb71e851b261fb526224"
  },
  "kernelspec": {
   "display_name": "Python 3.9.4 64-bit ('asd': conda)",
   "language": "python",
   "name": "python3"
  },
  "language_info": {
   "name": "python",
   "version": "3.9.4"
  },
  "orig_nbformat": 4
 },
 "nbformat": 4,
 "nbformat_minor": 2
}
